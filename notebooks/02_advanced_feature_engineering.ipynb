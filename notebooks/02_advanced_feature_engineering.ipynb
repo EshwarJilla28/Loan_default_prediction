{
 "cells": [
  {
   "cell_type": "code",
   "execution_count": 1,
   "id": "095fc2f6",
   "metadata": {},
   "outputs": [
    {
     "name": "stdout",
     "output_type": "stream",
     "text": [
      "🏦 PHASE 2: ADVANCED FINANCIAL FEATURE ENGINEERING\n",
      "======================================================================\n",
      "Building sophisticated domain-specific features for loan risk assessment\n",
      "======================================================================\n"
     ]
    }
   ],
   "source": [
    "import pandas as pd\n",
    "import numpy as np\n",
    "import matplotlib.pyplot as plt\n",
    "import seaborn as sns\n",
    "from sklearn.preprocessing import StandardScaler\n",
    "import warnings\n",
    "warnings.filterwarnings('ignore')\n",
    "\n",
    "print(\"🏦 PHASE 2: ADVANCED FINANCIAL FEATURE ENGINEERING\")\n",
    "print(\"=\" * 70)\n",
    "print(\"Building sophisticated domain-specific features for loan risk assessment\")\n",
    "print(\"=\" * 70)\n"
   ]
  },
  {
   "cell_type": "code",
   "execution_count": null,
   "id": "a107e091",
   "metadata": {},
   "outputs": [],
   "source": [
    "# Load the data from Phase 1 (assuming you've resolved the target column issue)\n",
    "df = pd.read_csv('../data/processed/baseline_data.csv')  # We'll save this from Phase 1\n",
    "print(f\"📊 Dataset loaded: {df.shape[0]:,} loans with {df.shape[1]} features\")\n",
    "\n",
    "# Verify we have the key columns for financial engineering\n",
    "required_cols = ['age', 'income', 'loan_amount', 'credit_score', 'employment_months', \n",
    "                'debt_to_income_ratio', 'interest_rate', 'loan_term', 'credit_lines_open']\n",
    "missing_cols = [col for col in required_cols if col not in df.columns]\n",
    "if missing_cols:\n",
    "    print(f\"⚠️ Missing columns: {missing_cols}\")\n",
    "else:\n",
    "    print(\"✅ All required columns present for financial feature engineering\")\n"
   ]
  }
 ],
 "metadata": {
  "kernelspec": {
   "display_name": "loan-default-env",
   "language": "python",
   "name": "python3"
  },
  "language_info": {
   "codemirror_mode": {
    "name": "ipython",
    "version": 3
   },
   "file_extension": ".py",
   "mimetype": "text/x-python",
   "name": "python",
   "nbconvert_exporter": "python",
   "pygments_lexer": "ipython3",
   "version": "3.10.18"
  }
 },
 "nbformat": 4,
 "nbformat_minor": 5
}
